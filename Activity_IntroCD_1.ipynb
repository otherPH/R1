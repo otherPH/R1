{
  "nbformat": 4,
  "nbformat_minor": 0,
  "metadata": {
    "colab": {
      "provenance": [],
      "authorship_tag": "ABX9TyOZuibzvzfkzezwo76sLA5d",
      "include_colab_link": true
    },
    "kernelspec": {
      "name": "python3",
      "display_name": "Python 3"
    },
    "language_info": {
      "name": "python"
    }
  },
  "cells": [
    {
      "cell_type": "markdown",
      "metadata": {
        "id": "view-in-github",
        "colab_type": "text"
      },
      "source": [
        "<a href=\"https://colab.research.google.com/github/otherPH/R1/blob/main/Activity_IntroCD_1.ipynb\" target=\"_parent\"><img src=\"https://colab.research.google.com/assets/colab-badge.svg\" alt=\"Open In Colab\"/></a>"
      ]
    },
    {
      "cell_type": "code",
      "source": [
        "import pandas as pd\n",
        "import altair as alt\n",
        "from vega_datasets import data\n",
        "cars = data.burtin()\n"
      ],
      "metadata": {
        "id": "Tfs1rlTE40yo"
      },
      "execution_count": 12,
      "outputs": []
    },
    {
      "cell_type": "markdown",
      "source": [
        "## 1.10. Interatividade\n",
        "Além da construção de gráficos básicos e da composição de visualização, uma das ferramentas mais interessantes do Altair e do Vega-Lite é o suporte para interação.\n",
        "\n",
        "Para criar um gráfico interativo simples que suporte panorâmica e zoom, podemos invocar o método `interactive()` do objeto `Chart`. No gráfico abaixo, clique e arraste para panorâmica ou use a rolagem para zoom:"
      ],
      "metadata": {
        "id": "tLZ9hdqjzyqm"
      }
    },
    {
      "cell_type": "code",
      "execution_count": 13,
      "metadata": {
        "colab": {
          "base_uri": "https://localhost:8080/",
          "height": 383
        },
        "id": "vdyx0ruCyprX",
        "outputId": "7591aadf-14b7-4548-9c35-04f9b72c57a7"
      },
      "outputs": [
        {
          "output_type": "execute_result",
          "data": {
            "text/html": [
              "\n",
              "<style>\n",
              "  #altair-viz-34103538d2704a928fa88372cd29e55f.vega-embed {\n",
              "    width: 100%;\n",
              "    display: flex;\n",
              "  }\n",
              "\n",
              "  #altair-viz-34103538d2704a928fa88372cd29e55f.vega-embed details,\n",
              "  #altair-viz-34103538d2704a928fa88372cd29e55f.vega-embed details summary {\n",
              "    position: relative;\n",
              "  }\n",
              "</style>\n",
              "<div id=\"altair-viz-34103538d2704a928fa88372cd29e55f\"></div>\n",
              "<script type=\"text/javascript\">\n",
              "  var VEGA_DEBUG = (typeof VEGA_DEBUG == \"undefined\") ? {} : VEGA_DEBUG;\n",
              "  (function(spec, embedOpt){\n",
              "    let outputDiv = document.currentScript.previousElementSibling;\n",
              "    if (outputDiv.id !== \"altair-viz-34103538d2704a928fa88372cd29e55f\") {\n",
              "      outputDiv = document.getElementById(\"altair-viz-34103538d2704a928fa88372cd29e55f\");\n",
              "    }\n",
              "\n",
              "    const paths = {\n",
              "      \"vega\": \"https://cdn.jsdelivr.net/npm/vega@5?noext\",\n",
              "      \"vega-lib\": \"https://cdn.jsdelivr.net/npm/vega-lib?noext\",\n",
              "      \"vega-lite\": \"https://cdn.jsdelivr.net/npm/vega-lite@5.20.1?noext\",\n",
              "      \"vega-embed\": \"https://cdn.jsdelivr.net/npm/vega-embed@6?noext\",\n",
              "    };\n",
              "\n",
              "    function maybeLoadScript(lib, version) {\n",
              "      var key = `${lib.replace(\"-\", \"\")}_version`;\n",
              "      return (VEGA_DEBUG[key] == version) ?\n",
              "        Promise.resolve(paths[lib]) :\n",
              "        new Promise(function(resolve, reject) {\n",
              "          var s = document.createElement('script');\n",
              "          document.getElementsByTagName(\"head\")[0].appendChild(s);\n",
              "          s.async = true;\n",
              "          s.onload = () => {\n",
              "            VEGA_DEBUG[key] = version;\n",
              "            return resolve(paths[lib]);\n",
              "          };\n",
              "          s.onerror = () => reject(`Error loading script: ${paths[lib]}`);\n",
              "          s.src = paths[lib];\n",
              "        });\n",
              "    }\n",
              "\n",
              "    function showError(err) {\n",
              "      outputDiv.innerHTML = `<div class=\"error\" style=\"color:red;\">${err}</div>`;\n",
              "      throw err;\n",
              "    }\n",
              "\n",
              "    function displayChart(vegaEmbed) {\n",
              "      vegaEmbed(outputDiv, spec, embedOpt)\n",
              "        .catch(err => showError(`Javascript Error: ${err.message}<br>This usually means there's a typo in your chart specification. See the javascript console for the full traceback.`));\n",
              "    }\n",
              "\n",
              "    if(typeof define === \"function\" && define.amd) {\n",
              "      requirejs.config({paths});\n",
              "      let deps = [\"vega-embed\"];\n",
              "      require(deps, displayChart, err => showError(`Error loading script: ${err.message}`));\n",
              "    } else {\n",
              "      maybeLoadScript(\"vega\", \"5\")\n",
              "        .then(() => maybeLoadScript(\"vega-lite\", \"5.20.1\"))\n",
              "        .then(() => maybeLoadScript(\"vega-embed\", \"6\"))\n",
              "        .catch(showError)\n",
              "        .then(() => displayChart(vegaEmbed));\n",
              "    }\n",
              "  })({\"config\": {\"view\": {\"continuousWidth\": 300, \"continuousHeight\": 300}}, \"data\": {\"name\": \"data-9358c74bfa85e269e603e741ba1c4924\"}, \"mark\": {\"type\": \"point\"}, \"encoding\": {\"color\": {\"field\": \"Genus\", \"type\": \"nominal\"}, \"x\": {\"field\": \"Penicillin\", \"type\": \"quantitative\"}, \"y\": {\"field\": \"Bacteria\", \"type\": \"nominal\"}}, \"params\": [{\"name\": \"param_5\", \"select\": {\"type\": \"interval\", \"encodings\": [\"x\", \"y\"]}, \"bind\": \"scales\"}], \"$schema\": \"https://vega.github.io/schema/vega-lite/v5.20.1.json\", \"datasets\": {\"data-9358c74bfa85e269e603e741ba1c4924\": [{\"Bacteria\": \"Aerobacter aerogenes\", \"Penicillin\": 870.0, \"Streptomycin\": 1.0, \"Neomycin\": 1.6, \"Gram_Staining\": \"negative\", \"Genus\": \"other\"}, {\"Bacteria\": \"Bacillus anthracis\", \"Penicillin\": 0.001, \"Streptomycin\": 0.01, \"Neomycin\": 0.007, \"Gram_Staining\": \"positive\", \"Genus\": \"other\"}, {\"Bacteria\": \"Brucella abortus\", \"Penicillin\": 1.0, \"Streptomycin\": 2.0, \"Neomycin\": 0.02, \"Gram_Staining\": \"negative\", \"Genus\": \"other\"}, {\"Bacteria\": \"Diplococcus pneumoniae\", \"Penicillin\": 0.005, \"Streptomycin\": 11.0, \"Neomycin\": 10.0, \"Gram_Staining\": \"positive\", \"Genus\": \"other\"}, {\"Bacteria\": \"Escherichia coli\", \"Penicillin\": 100.0, \"Streptomycin\": 0.4, \"Neomycin\": 0.1, \"Gram_Staining\": \"negative\", \"Genus\": \"other\"}, {\"Bacteria\": \"Klebsiella pneumoniae\", \"Penicillin\": 850.0, \"Streptomycin\": 1.2, \"Neomycin\": 1.0, \"Gram_Staining\": \"negative\", \"Genus\": \"other\"}, {\"Bacteria\": \"Mycobacterium tuberculosis\", \"Penicillin\": 800.0, \"Streptomycin\": 5.0, \"Neomycin\": 2.0, \"Gram_Staining\": \"negative\", \"Genus\": \"other\"}, {\"Bacteria\": \"Proteus vulgaris\", \"Penicillin\": 3.0, \"Streptomycin\": 0.1, \"Neomycin\": 0.1, \"Gram_Staining\": \"negative\", \"Genus\": \"other\"}, {\"Bacteria\": \"Pseudomonas aeruginosa\", \"Penicillin\": 850.0, \"Streptomycin\": 2.0, \"Neomycin\": 0.4, \"Gram_Staining\": \"negative\", \"Genus\": \"other\"}, {\"Bacteria\": \"Salmonella (Eberthella) typhosa\", \"Penicillin\": 1.0, \"Streptomycin\": 0.4, \"Neomycin\": 0.008, \"Gram_Staining\": \"negative\", \"Genus\": \"Salmonella\"}, {\"Bacteria\": \"Salmonella schottmuelleri\", \"Penicillin\": 10.0, \"Streptomycin\": 0.8, \"Neomycin\": 0.09, \"Gram_Staining\": \"negative\", \"Genus\": \"Salmonella\"}, {\"Bacteria\": \"Staphylococcus albus\", \"Penicillin\": 0.007, \"Streptomycin\": 0.1, \"Neomycin\": 0.001, \"Gram_Staining\": \"positive\", \"Genus\": \"Staphylococcus\"}, {\"Bacteria\": \"Staphylococcus aureus\", \"Penicillin\": 0.03, \"Streptomycin\": 0.03, \"Neomycin\": 0.001, \"Gram_Staining\": \"positive\", \"Genus\": \"Staphylococcus\"}, {\"Bacteria\": \"Streptococcus fecalis\", \"Penicillin\": 1.0, \"Streptomycin\": 1.0, \"Neomycin\": 0.1, \"Gram_Staining\": \"positive\", \"Genus\": \"Streptococcus\"}, {\"Bacteria\": \"Streptococcus hemolyticus\", \"Penicillin\": 0.001, \"Streptomycin\": 14.0, \"Neomycin\": 10.0, \"Gram_Staining\": \"positive\", \"Genus\": \"Streptococcus\"}, {\"Bacteria\": \"Streptococcus viridans\", \"Penicillin\": 0.005, \"Streptomycin\": 10.0, \"Neomycin\": 40.0, \"Gram_Staining\": \"positive\", \"Genus\": \"Streptococcus\"}]}}, {\"mode\": \"vega-lite\"});\n",
              "</script>"
            ],
            "text/plain": [
              "alt.Chart(...)"
            ]
          },
          "metadata": {},
          "execution_count": 13
        }
      ],
      "source": [
        "alt.Chart(cars).mark_point().encode(\n",
        "    x='Penicillin',\n",
        "    y='Bacteria',\n",
        "    color='Genus',\n",
        ").interactive()"
      ]
    },
    {
      "cell_type": "markdown",
      "source": [
        "Para fornecer mais detalhes ao passar o mouse, podemos utilizar o canal de codificação `tooltip`."
      ],
      "metadata": {
        "id": "dnXElZgDy_cG"
      }
    },
    {
      "cell_type": "code",
      "source": [
        "alt.Chart(cars).mark_point().encode(\n",
        "    x='Penicillin',\n",
        "    y='Bacteria',\n",
        "    color='Genus',\n",
        "    tooltip=['Bacteria', 'Genus'] # Ao passarmos o mouse, mostra qual a bactéria relacionada e seu gênero.\n",
        ").interactive()"
      ],
      "metadata": {
        "colab": {
          "base_uri": "https://localhost:8080/",
          "height": 383
        },
        "id": "gUEKOTZzCtae",
        "outputId": "10e520a3-0fee-4ea5-d4c9-5ce507ae15c7"
      },
      "execution_count": 15,
      "outputs": [
        {
          "output_type": "execute_result",
          "data": {
            "text/html": [
              "\n",
              "<style>\n",
              "  #altair-viz-ff0d19b783ac4b939ce8b8f1f412e520.vega-embed {\n",
              "    width: 100%;\n",
              "    display: flex;\n",
              "  }\n",
              "\n",
              "  #altair-viz-ff0d19b783ac4b939ce8b8f1f412e520.vega-embed details,\n",
              "  #altair-viz-ff0d19b783ac4b939ce8b8f1f412e520.vega-embed details summary {\n",
              "    position: relative;\n",
              "  }\n",
              "</style>\n",
              "<div id=\"altair-viz-ff0d19b783ac4b939ce8b8f1f412e520\"></div>\n",
              "<script type=\"text/javascript\">\n",
              "  var VEGA_DEBUG = (typeof VEGA_DEBUG == \"undefined\") ? {} : VEGA_DEBUG;\n",
              "  (function(spec, embedOpt){\n",
              "    let outputDiv = document.currentScript.previousElementSibling;\n",
              "    if (outputDiv.id !== \"altair-viz-ff0d19b783ac4b939ce8b8f1f412e520\") {\n",
              "      outputDiv = document.getElementById(\"altair-viz-ff0d19b783ac4b939ce8b8f1f412e520\");\n",
              "    }\n",
              "\n",
              "    const paths = {\n",
              "      \"vega\": \"https://cdn.jsdelivr.net/npm/vega@5?noext\",\n",
              "      \"vega-lib\": \"https://cdn.jsdelivr.net/npm/vega-lib?noext\",\n",
              "      \"vega-lite\": \"https://cdn.jsdelivr.net/npm/vega-lite@5.20.1?noext\",\n",
              "      \"vega-embed\": \"https://cdn.jsdelivr.net/npm/vega-embed@6?noext\",\n",
              "    };\n",
              "\n",
              "    function maybeLoadScript(lib, version) {\n",
              "      var key = `${lib.replace(\"-\", \"\")}_version`;\n",
              "      return (VEGA_DEBUG[key] == version) ?\n",
              "        Promise.resolve(paths[lib]) :\n",
              "        new Promise(function(resolve, reject) {\n",
              "          var s = document.createElement('script');\n",
              "          document.getElementsByTagName(\"head\")[0].appendChild(s);\n",
              "          s.async = true;\n",
              "          s.onload = () => {\n",
              "            VEGA_DEBUG[key] = version;\n",
              "            return resolve(paths[lib]);\n",
              "          };\n",
              "          s.onerror = () => reject(`Error loading script: ${paths[lib]}`);\n",
              "          s.src = paths[lib];\n",
              "        });\n",
              "    }\n",
              "\n",
              "    function showError(err) {\n",
              "      outputDiv.innerHTML = `<div class=\"error\" style=\"color:red;\">${err}</div>`;\n",
              "      throw err;\n",
              "    }\n",
              "\n",
              "    function displayChart(vegaEmbed) {\n",
              "      vegaEmbed(outputDiv, spec, embedOpt)\n",
              "        .catch(err => showError(`Javascript Error: ${err.message}<br>This usually means there's a typo in your chart specification. See the javascript console for the full traceback.`));\n",
              "    }\n",
              "\n",
              "    if(typeof define === \"function\" && define.amd) {\n",
              "      requirejs.config({paths});\n",
              "      let deps = [\"vega-embed\"];\n",
              "      require(deps, displayChart, err => showError(`Error loading script: ${err.message}`));\n",
              "    } else {\n",
              "      maybeLoadScript(\"vega\", \"5\")\n",
              "        .then(() => maybeLoadScript(\"vega-lite\", \"5.20.1\"))\n",
              "        .then(() => maybeLoadScript(\"vega-embed\", \"6\"))\n",
              "        .catch(showError)\n",
              "        .then(() => displayChart(vegaEmbed));\n",
              "    }\n",
              "  })({\"config\": {\"view\": {\"continuousWidth\": 300, \"continuousHeight\": 300}}, \"data\": {\"name\": \"data-9358c74bfa85e269e603e741ba1c4924\"}, \"mark\": {\"type\": \"point\"}, \"encoding\": {\"color\": {\"field\": \"Genus\", \"type\": \"nominal\"}, \"tooltip\": [{\"field\": \"Bacteria\", \"type\": \"nominal\"}, {\"field\": \"Genus\", \"type\": \"nominal\"}], \"x\": {\"field\": \"Penicillin\", \"type\": \"quantitative\"}, \"y\": {\"field\": \"Bacteria\", \"type\": \"nominal\"}}, \"params\": [{\"name\": \"param_7\", \"select\": {\"type\": \"interval\", \"encodings\": [\"x\", \"y\"]}, \"bind\": \"scales\"}], \"$schema\": \"https://vega.github.io/schema/vega-lite/v5.20.1.json\", \"datasets\": {\"data-9358c74bfa85e269e603e741ba1c4924\": [{\"Bacteria\": \"Aerobacter aerogenes\", \"Penicillin\": 870.0, \"Streptomycin\": 1.0, \"Neomycin\": 1.6, \"Gram_Staining\": \"negative\", \"Genus\": \"other\"}, {\"Bacteria\": \"Bacillus anthracis\", \"Penicillin\": 0.001, \"Streptomycin\": 0.01, \"Neomycin\": 0.007, \"Gram_Staining\": \"positive\", \"Genus\": \"other\"}, {\"Bacteria\": \"Brucella abortus\", \"Penicillin\": 1.0, \"Streptomycin\": 2.0, \"Neomycin\": 0.02, \"Gram_Staining\": \"negative\", \"Genus\": \"other\"}, {\"Bacteria\": \"Diplococcus pneumoniae\", \"Penicillin\": 0.005, \"Streptomycin\": 11.0, \"Neomycin\": 10.0, \"Gram_Staining\": \"positive\", \"Genus\": \"other\"}, {\"Bacteria\": \"Escherichia coli\", \"Penicillin\": 100.0, \"Streptomycin\": 0.4, \"Neomycin\": 0.1, \"Gram_Staining\": \"negative\", \"Genus\": \"other\"}, {\"Bacteria\": \"Klebsiella pneumoniae\", \"Penicillin\": 850.0, \"Streptomycin\": 1.2, \"Neomycin\": 1.0, \"Gram_Staining\": \"negative\", \"Genus\": \"other\"}, {\"Bacteria\": \"Mycobacterium tuberculosis\", \"Penicillin\": 800.0, \"Streptomycin\": 5.0, \"Neomycin\": 2.0, \"Gram_Staining\": \"negative\", \"Genus\": \"other\"}, {\"Bacteria\": \"Proteus vulgaris\", \"Penicillin\": 3.0, \"Streptomycin\": 0.1, \"Neomycin\": 0.1, \"Gram_Staining\": \"negative\", \"Genus\": \"other\"}, {\"Bacteria\": \"Pseudomonas aeruginosa\", \"Penicillin\": 850.0, \"Streptomycin\": 2.0, \"Neomycin\": 0.4, \"Gram_Staining\": \"negative\", \"Genus\": \"other\"}, {\"Bacteria\": \"Salmonella (Eberthella) typhosa\", \"Penicillin\": 1.0, \"Streptomycin\": 0.4, \"Neomycin\": 0.008, \"Gram_Staining\": \"negative\", \"Genus\": \"Salmonella\"}, {\"Bacteria\": \"Salmonella schottmuelleri\", \"Penicillin\": 10.0, \"Streptomycin\": 0.8, \"Neomycin\": 0.09, \"Gram_Staining\": \"negative\", \"Genus\": \"Salmonella\"}, {\"Bacteria\": \"Staphylococcus albus\", \"Penicillin\": 0.007, \"Streptomycin\": 0.1, \"Neomycin\": 0.001, \"Gram_Staining\": \"positive\", \"Genus\": \"Staphylococcus\"}, {\"Bacteria\": \"Staphylococcus aureus\", \"Penicillin\": 0.03, \"Streptomycin\": 0.03, \"Neomycin\": 0.001, \"Gram_Staining\": \"positive\", \"Genus\": \"Staphylococcus\"}, {\"Bacteria\": \"Streptococcus fecalis\", \"Penicillin\": 1.0, \"Streptomycin\": 1.0, \"Neomycin\": 0.1, \"Gram_Staining\": \"positive\", \"Genus\": \"Streptococcus\"}, {\"Bacteria\": \"Streptococcus hemolyticus\", \"Penicillin\": 0.001, \"Streptomycin\": 14.0, \"Neomycin\": 10.0, \"Gram_Staining\": \"positive\", \"Genus\": \"Streptococcus\"}, {\"Bacteria\": \"Streptococcus viridans\", \"Penicillin\": 0.005, \"Streptomycin\": 10.0, \"Neomycin\": 40.0, \"Gram_Staining\": \"positive\", \"Genus\": \"Streptococcus\"}]}}, {\"mode\": \"vega-lite\"});\n",
              "</script>"
            ],
            "text/plain": [
              "alt.Chart(...)"
            ]
          },
          "metadata": {},
          "execution_count": 15
        }
      ]
    },
    {
      "cell_type": "markdown",
      "source": [
        "Para interações mais complexas, como gráficos vinculados e filtragem cruzada, o Altair fornece uma abstração de seleção para definir seleções interativas e, em seguida, vinculá-las a componentes de um gráfico. Abordaremos isso em detalhes em um notebook posterior.\n",
        "\n",
        "Abaixo está um exemplo mais complexo. O histograma superior mostra a contagem de carros por ano e usa uma seleção interativa para modificar a opacidade dos pontos no diagrama de dispersão inferior, que mostra potência versus quilometragem.\n",
        "\n",
        "Arraste um intervalo no gráfico superior e veja como ele afeta os pontos no gráfico inferior. Ao examinar o código, **não se preocupe se as partes ainda não fizerem sentido!** Este é um exemplo aspiracional, preencheremos todos os detalhes necessários ao longo dos diferentes notebooks."
      ],
      "metadata": {
        "id": "ft5AL7WPD1lc"
      }
    },
    {
      "cell_type": "code",
      "source": [
        "# crie uma seleção de intervalo sobre uma codificação do eixo x\n",
        "brush = alt.selection_interval(encodings=['x'])\n",
        "\n",
        "# determine a opacidade com base no pincel\n",
        "opacity = alt.condition(brush, alt.value(0.9), alt.value(0.1))\n",
        "\n",
        "# an overview histogram of cars per year\n",
        "# add the interval brush to select cars over time\n",
        "overview = alt.Chart(cars).mark_bar().encode(\n",
        "    alt.X('Genus:O', # extract year unit, treat as ordinal\n",
        "      axis=alt.Axis(title=None, labelAngle=30) # no title, no label angle\n",
        "    ),\n",
        "    alt.Y('count()', title=None), # counts, no axis title\n",
        "    opacity=opacity\n",
        ").add_selection(\n",
        "    brush      # add interval brush selection to the chart\n",
        ").properties(\n",
        "    width=400, # set the chart width to 400 pixels\n",
        "    height=50  # set the chart height to 50 pixels\n",
        ")\n",
        "\n",
        "# a detail scatterplot of horsepower vs. mileage\n",
        "# modulate point opacity based on the brush selection\n",
        "detail = alt.Chart(cars).mark_point().encode(\n",
        "    alt.X('Penicillin'),\n",
        "    alt.Y('Bacteria'),\n",
        "    # set opacity based on brush selection\n",
        "    opacity=opacity\n",
        ").properties(width=400) # set chart width to match the first chart\n",
        "\n",
        "# vertically concatenate (vconcat) charts using the '&' operator\n",
        "overview & detail"
      ],
      "metadata": {
        "colab": {
          "base_uri": "https://localhost:8080/",
          "height": 564
        },
        "id": "BHFxsdCSF2dz",
        "outputId": "aa01da20-a533-4a1f-9ebc-7aaeb928c99a"
      },
      "execution_count": 18,
      "outputs": [
        {
          "output_type": "stream",
          "name": "stderr",
          "text": [
            "<ipython-input-18-d3101279af38>:15: AltairDeprecationWarning: \n",
            "Deprecated since `altair=5.0.0`. Use add_params instead.\n",
            "  ).add_selection(\n"
          ]
        },
        {
          "output_type": "execute_result",
          "data": {
            "text/html": [
              "\n",
              "<style>\n",
              "  #altair-viz-aece6aac120c419cb2c4feb9ea58ef10.vega-embed {\n",
              "    width: 100%;\n",
              "    display: flex;\n",
              "  }\n",
              "\n",
              "  #altair-viz-aece6aac120c419cb2c4feb9ea58ef10.vega-embed details,\n",
              "  #altair-viz-aece6aac120c419cb2c4feb9ea58ef10.vega-embed details summary {\n",
              "    position: relative;\n",
              "  }\n",
              "</style>\n",
              "<div id=\"altair-viz-aece6aac120c419cb2c4feb9ea58ef10\"></div>\n",
              "<script type=\"text/javascript\">\n",
              "  var VEGA_DEBUG = (typeof VEGA_DEBUG == \"undefined\") ? {} : VEGA_DEBUG;\n",
              "  (function(spec, embedOpt){\n",
              "    let outputDiv = document.currentScript.previousElementSibling;\n",
              "    if (outputDiv.id !== \"altair-viz-aece6aac120c419cb2c4feb9ea58ef10\") {\n",
              "      outputDiv = document.getElementById(\"altair-viz-aece6aac120c419cb2c4feb9ea58ef10\");\n",
              "    }\n",
              "\n",
              "    const paths = {\n",
              "      \"vega\": \"https://cdn.jsdelivr.net/npm/vega@5?noext\",\n",
              "      \"vega-lib\": \"https://cdn.jsdelivr.net/npm/vega-lib?noext\",\n",
              "      \"vega-lite\": \"https://cdn.jsdelivr.net/npm/vega-lite@5.20.1?noext\",\n",
              "      \"vega-embed\": \"https://cdn.jsdelivr.net/npm/vega-embed@6?noext\",\n",
              "    };\n",
              "\n",
              "    function maybeLoadScript(lib, version) {\n",
              "      var key = `${lib.replace(\"-\", \"\")}_version`;\n",
              "      return (VEGA_DEBUG[key] == version) ?\n",
              "        Promise.resolve(paths[lib]) :\n",
              "        new Promise(function(resolve, reject) {\n",
              "          var s = document.createElement('script');\n",
              "          document.getElementsByTagName(\"head\")[0].appendChild(s);\n",
              "          s.async = true;\n",
              "          s.onload = () => {\n",
              "            VEGA_DEBUG[key] = version;\n",
              "            return resolve(paths[lib]);\n",
              "          };\n",
              "          s.onerror = () => reject(`Error loading script: ${paths[lib]}`);\n",
              "          s.src = paths[lib];\n",
              "        });\n",
              "    }\n",
              "\n",
              "    function showError(err) {\n",
              "      outputDiv.innerHTML = `<div class=\"error\" style=\"color:red;\">${err}</div>`;\n",
              "      throw err;\n",
              "    }\n",
              "\n",
              "    function displayChart(vegaEmbed) {\n",
              "      vegaEmbed(outputDiv, spec, embedOpt)\n",
              "        .catch(err => showError(`Javascript Error: ${err.message}<br>This usually means there's a typo in your chart specification. See the javascript console for the full traceback.`));\n",
              "    }\n",
              "\n",
              "    if(typeof define === \"function\" && define.amd) {\n",
              "      requirejs.config({paths});\n",
              "      let deps = [\"vega-embed\"];\n",
              "      require(deps, displayChart, err => showError(`Error loading script: ${err.message}`));\n",
              "    } else {\n",
              "      maybeLoadScript(\"vega\", \"5\")\n",
              "        .then(() => maybeLoadScript(\"vega-lite\", \"5.20.1\"))\n",
              "        .then(() => maybeLoadScript(\"vega-embed\", \"6\"))\n",
              "        .catch(showError)\n",
              "        .then(() => displayChart(vegaEmbed));\n",
              "    }\n",
              "  })({\"config\": {\"view\": {\"continuousWidth\": 300, \"continuousHeight\": 300}}, \"vconcat\": [{\"mark\": {\"type\": \"bar\"}, \"encoding\": {\"opacity\": {\"condition\": {\"param\": \"param_10\", \"value\": 0.9}, \"value\": 0.1}, \"x\": {\"axis\": {\"labelAngle\": 30, \"title\": null}, \"field\": \"Genus\", \"type\": \"ordinal\"}, \"y\": {\"aggregate\": \"count\", \"title\": null, \"type\": \"quantitative\"}}, \"height\": 50, \"name\": \"view_3\", \"width\": 400}, {\"mark\": {\"type\": \"point\"}, \"encoding\": {\"opacity\": {\"condition\": {\"param\": \"param_10\", \"value\": 0.9}, \"value\": 0.1}, \"x\": {\"field\": \"Penicillin\", \"type\": \"quantitative\"}, \"y\": {\"field\": \"Bacteria\", \"type\": \"nominal\"}}, \"width\": 400}], \"data\": {\"name\": \"data-9358c74bfa85e269e603e741ba1c4924\"}, \"params\": [{\"name\": \"param_10\", \"select\": {\"type\": \"interval\", \"encodings\": [\"x\"]}, \"views\": [\"view_3\"]}], \"$schema\": \"https://vega.github.io/schema/vega-lite/v5.20.1.json\", \"datasets\": {\"data-9358c74bfa85e269e603e741ba1c4924\": [{\"Bacteria\": \"Aerobacter aerogenes\", \"Penicillin\": 870.0, \"Streptomycin\": 1.0, \"Neomycin\": 1.6, \"Gram_Staining\": \"negative\", \"Genus\": \"other\"}, {\"Bacteria\": \"Bacillus anthracis\", \"Penicillin\": 0.001, \"Streptomycin\": 0.01, \"Neomycin\": 0.007, \"Gram_Staining\": \"positive\", \"Genus\": \"other\"}, {\"Bacteria\": \"Brucella abortus\", \"Penicillin\": 1.0, \"Streptomycin\": 2.0, \"Neomycin\": 0.02, \"Gram_Staining\": \"negative\", \"Genus\": \"other\"}, {\"Bacteria\": \"Diplococcus pneumoniae\", \"Penicillin\": 0.005, \"Streptomycin\": 11.0, \"Neomycin\": 10.0, \"Gram_Staining\": \"positive\", \"Genus\": \"other\"}, {\"Bacteria\": \"Escherichia coli\", \"Penicillin\": 100.0, \"Streptomycin\": 0.4, \"Neomycin\": 0.1, \"Gram_Staining\": \"negative\", \"Genus\": \"other\"}, {\"Bacteria\": \"Klebsiella pneumoniae\", \"Penicillin\": 850.0, \"Streptomycin\": 1.2, \"Neomycin\": 1.0, \"Gram_Staining\": \"negative\", \"Genus\": \"other\"}, {\"Bacteria\": \"Mycobacterium tuberculosis\", \"Penicillin\": 800.0, \"Streptomycin\": 5.0, \"Neomycin\": 2.0, \"Gram_Staining\": \"negative\", \"Genus\": \"other\"}, {\"Bacteria\": \"Proteus vulgaris\", \"Penicillin\": 3.0, \"Streptomycin\": 0.1, \"Neomycin\": 0.1, \"Gram_Staining\": \"negative\", \"Genus\": \"other\"}, {\"Bacteria\": \"Pseudomonas aeruginosa\", \"Penicillin\": 850.0, \"Streptomycin\": 2.0, \"Neomycin\": 0.4, \"Gram_Staining\": \"negative\", \"Genus\": \"other\"}, {\"Bacteria\": \"Salmonella (Eberthella) typhosa\", \"Penicillin\": 1.0, \"Streptomycin\": 0.4, \"Neomycin\": 0.008, \"Gram_Staining\": \"negative\", \"Genus\": \"Salmonella\"}, {\"Bacteria\": \"Salmonella schottmuelleri\", \"Penicillin\": 10.0, \"Streptomycin\": 0.8, \"Neomycin\": 0.09, \"Gram_Staining\": \"negative\", \"Genus\": \"Salmonella\"}, {\"Bacteria\": \"Staphylococcus albus\", \"Penicillin\": 0.007, \"Streptomycin\": 0.1, \"Neomycin\": 0.001, \"Gram_Staining\": \"positive\", \"Genus\": \"Staphylococcus\"}, {\"Bacteria\": \"Staphylococcus aureus\", \"Penicillin\": 0.03, \"Streptomycin\": 0.03, \"Neomycin\": 0.001, \"Gram_Staining\": \"positive\", \"Genus\": \"Staphylococcus\"}, {\"Bacteria\": \"Streptococcus fecalis\", \"Penicillin\": 1.0, \"Streptomycin\": 1.0, \"Neomycin\": 0.1, \"Gram_Staining\": \"positive\", \"Genus\": \"Streptococcus\"}, {\"Bacteria\": \"Streptococcus hemolyticus\", \"Penicillin\": 0.001, \"Streptomycin\": 14.0, \"Neomycin\": 10.0, \"Gram_Staining\": \"positive\", \"Genus\": \"Streptococcus\"}, {\"Bacteria\": \"Streptococcus viridans\", \"Penicillin\": 0.005, \"Streptomycin\": 10.0, \"Neomycin\": 40.0, \"Gram_Staining\": \"positive\", \"Genus\": \"Streptococcus\"}]}}, {\"mode\": \"vega-lite\"});\n",
              "</script>"
            ],
            "text/plain": [
              "alt.VConcatChart(...)"
            ]
          },
          "metadata": {},
          "execution_count": 18
        }
      ]
    },
    {
      "cell_type": "markdown",
      "source": [
        "**teste**"
      ],
      "metadata": {
        "id": "rgxWhgiTNj0w"
      }
    },
    {
      "cell_type": "markdown",
      "source": [
        "."
      ],
      "metadata": {
        "id": "JvZOzf3_KTrv"
      }
    }
  ]
}